{
 "cells": [
  {
   "cell_type": "code",
   "execution_count": 1,
   "id": "dc5e846d-8b5d-4f3a-84d0-dec5b904f1a3",
   "metadata": {
    "tags": []
   },
   "outputs": [],
   "source": [
    "#DSA"
   ]
  },
  {
   "cell_type": "code",
   "execution_count": 2,
   "id": "64c66be6-aa2d-47f3-aaf3-7bbd52ba07f5",
   "metadata": {
    "tags": []
   },
   "outputs": [],
   "source": [
    "#PROBLEM 1"
   ]
  },
  {
   "cell_type": "code",
   "execution_count": 3,
   "id": "90926169-b5b9-4f85-abcc-d845eac85b75",
   "metadata": {
    "tags": []
   },
   "outputs": [],
   "source": [
    "#REVERSE A SINGLY LINKED LIST."
   ]
  },
  {
   "cell_type": "code",
   "execution_count": 8,
   "id": "f9bc5dc9-f52d-4c07-bf4a-b4f088651693",
   "metadata": {},
   "outputs": [
    {
     "name": "stdout",
     "output_type": "stream",
     "text": [
      "Original Linked List:\n",
      "1 2 3 4 5 \n",
      "Reversed Linked List:\n",
      "5 4 3 2 1 \n"
     ]
    }
   ],
   "source": [
    "class Node:\n",
    "    def __init__(self, data):\n",
    "        self.data = data\n",
    "        self.next = None\n",
    "\n",
    "class LinkedList:\n",
    "    def __init__(self):\n",
    "        self.head = None\n",
    "\n",
    "    def reverse(self):\n",
    "        prev = None\n",
    "        current = self.head\n",
    "        while current:\n",
    "            next_node = current.next\n",
    "            current.next = prev\n",
    "            prev = current\n",
    "            current = next_node\n",
    "        self.head = prev\n",
    "\n",
    "    def add_node(self, data):\n",
    "        new_node = Node(data)\n",
    "        if self.head is None:\n",
    "            self.head = new_node\n",
    "        else:\n",
    "            current = self.head\n",
    "            while current.next:\n",
    "                current = current.next\n",
    "            current.next = new_node\n",
    "\n",
    "    def display(self):\n",
    "        current = self.head\n",
    "        while current:\n",
    "            print(current.data, end=\" \")\n",
    "            current = current.next\n",
    "        print()\n",
    "linked_list = LinkedList()\n",
    "linked_list.add_node(1)\n",
    "linked_list.add_node(2)\n",
    "linked_list.add_node(3)\n",
    "linked_list.add_node(4)\n",
    "linked_list.add_node(5)\n",
    "print(\"Original Linked List:\")\n",
    "linked_list.display()\n",
    "\n",
    "linked_list.reverse()\n",
    "\n",
    "print(\"Reversed Linked List:\")\n",
    "linked_list.display()"
   ]
  },
  {
   "cell_type": "code",
   "execution_count": null,
   "id": "702bfcdf-ec0a-4a2e-a24e-e4af26888268",
   "metadata": {},
   "outputs": [],
   "source": []
  },
  {
   "cell_type": "code",
   "execution_count": null,
   "id": "fe27fe47-6d5a-43d5-a4f6-13d66e2614c3",
   "metadata": {},
   "outputs": [],
   "source": []
  },
  {
   "cell_type": "code",
   "execution_count": 4,
   "id": "4bdf45b1-a699-4d3e-8cf6-5729085de86d",
   "metadata": {
    "tags": []
   },
   "outputs": [],
   "source": [
    "#PROBLEM 2"
   ]
  },
  {
   "cell_type": "code",
   "execution_count": 5,
   "id": "4d62a2e6-f074-4315-8c26-f3eeb370975f",
   "metadata": {
    "tags": []
   },
   "outputs": [],
   "source": [
    "#MERGE TWO SORTED LINKED LISTS INTO ONE SORTED LINKED LIST."
   ]
  },
  {
   "cell_type": "code",
   "execution_count": 14,
   "id": "01b4d3d0-d06e-48fd-80da-70e1e5721f07",
   "metadata": {},
   "outputs": [
    {
     "name": "stdout",
     "output_type": "stream",
     "text": [
      "1 2 3 4 5 6 "
     ]
    }
   ],
   "source": [
    "class Node:\n",
    "    def __init__(self,data):\n",
    "        self.data = data \n",
    "        self.next = None\n",
    "def merge_sorted_lists(head1,head2):\n",
    "    dummy = Node(0)\n",
    "    tail = dummy\n",
    "    while head1 and head2:\n",
    "        if head1.data<=head2.data:\n",
    "            tail.next = head1 \n",
    "            head1 = head1.next\n",
    "        else:\n",
    "            tail.next = head2\n",
    "            head2 = head2.next\n",
    "        tail = tail.next\n",
    "    if head1:\n",
    "        tail.next = head1\n",
    "    if head2:\n",
    "        tail.next = head2\n",
    "    return dummy.next\n",
    "list1 = Node(1)\n",
    "list1.next =Node(3)\n",
    "list1.next.next=Node(5)\n",
    "\n",
    "list2 = Node(2)\n",
    "list2.next = Node(4)\n",
    "list2.next.next = Node(6)\n",
    "merged_list = merge_sorted_lists(list1,list2)\n",
    "current = merged_list\n",
    "while current:\n",
    "    print(current.data,end=\" \")\n",
    "    current = current.next"
   ]
  },
  {
   "cell_type": "code",
   "execution_count": null,
   "id": "c4395f00-6071-47c1-ba15-49a6db0fa551",
   "metadata": {},
   "outputs": [],
   "source": []
  },
  {
   "cell_type": "code",
   "execution_count": null,
   "id": "76bee7d7-bc4e-4327-8f39-dd95c928ed6c",
   "metadata": {},
   "outputs": [],
   "source": []
  },
  {
   "cell_type": "code",
   "execution_count": 6,
   "id": "32b45946-ba7a-43a6-a819-1d6d05a2a1c6",
   "metadata": {
    "tags": []
   },
   "outputs": [],
   "source": [
    "#PROBLEM 3"
   ]
  },
  {
   "cell_type": "code",
   "execution_count": 7,
   "id": "1e30142a-39e8-4fd8-a66c-0cad41d291e7",
   "metadata": {
    "tags": []
   },
   "outputs": [],
   "source": [
    "#REMOVE THE NTH NODE FROM THE END OF A LINKED LIST."
   ]
  },
  {
   "cell_type": "code",
   "execution_count": 16,
   "id": "cb085139-7224-4df4-8ec0-462c35f443bc",
   "metadata": {},
   "outputs": [
    {
     "name": "stdout",
     "output_type": "stream",
     "text": [
      "1 2 3 5 "
     ]
    }
   ],
   "source": [
    "class Node:\n",
    "    def __init__(self, data):\n",
    "        self.data = data\n",
    "        self.next = None\n",
    "\n",
    "def remove_nth_from_end(head, n):\n",
    "    dummy = Node(0)\n",
    "    dummy.next = head\n",
    "    length = 0\n",
    "    current = head\n",
    "    while current:\n",
    "        length += 1\n",
    "        current = current.next\n",
    "    position = length - n\n",
    "    current = dummy\n",
    "    for _ in range(position):\n",
    "        current = current.next\n",
    "    current.next = current.next.next\n",
    "\n",
    "    return dummy.next\n",
    "head = Node(1)\n",
    "head.next = Node(2)\n",
    "head.next.next = Node(3)\n",
    "head.next.next.next = Node(4)\n",
    "head.next.next.next.next = Node(5)\n",
    "\n",
    "n = 2\n",
    "new_head = remove_nth_from_end(head, n)\n",
    "\n",
    "current = new_head\n",
    "while current:\n",
    "    print(current.data, end=\" \")\n",
    "    current = current.next"
   ]
  },
  {
   "cell_type": "code",
   "execution_count": null,
   "id": "ddb560e3-075e-4684-904c-48bb88dcc31d",
   "metadata": {},
   "outputs": [],
   "source": []
  },
  {
   "cell_type": "code",
   "execution_count": null,
   "id": "f80e62a3-699b-4f6b-a958-4f019328f191",
   "metadata": {},
   "outputs": [],
   "source": []
  },
  {
   "cell_type": "code",
   "execution_count": 8,
   "id": "0b36a865-f609-48e0-bc22-4894caa8806f",
   "metadata": {
    "tags": []
   },
   "outputs": [],
   "source": [
    "#PROBLEM 4"
   ]
  },
  {
   "cell_type": "code",
   "execution_count": 9,
   "id": "78143986-b065-4461-8e4f-e657dc2b48fa",
   "metadata": {
    "tags": []
   },
   "outputs": [],
   "source": [
    "#FIND THE INTERSECTION POINT OF TWO LINKED LISTS."
   ]
  },
  {
   "cell_type": "code",
   "execution_count": 18,
   "id": "7538264c-b72a-4e3f-8108-1329a1bf2bb1",
   "metadata": {},
   "outputs": [
    {
     "name": "stdout",
     "output_type": "stream",
     "text": [
      "Intersection point: 3\n"
     ]
    }
   ],
   "source": [
    "def get_intersection_node(head1, head2):\n",
    "    # Find the lengths of both linked lists\n",
    "    len1 = get_length(head1)\n",
    "    len2 = get_length(head2)\n",
    "    diff = abs(len1 - len2)\n",
    "    if len1 > len2:\n",
    "        for _ in range(diff):\n",
    "            head1 = head1.next\n",
    "    else:\n",
    "        for _ in range(diff):\n",
    "            head2 = head2.next\n",
    "    while head1 != head2:\n",
    "        head1 = head1.next\n",
    "        head2 = head2.next\n",
    "    return head1\n",
    "\n",
    "def get_length(head):\n",
    "    length = 0\n",
    "    current = head\n",
    "    while current:\n",
    "        length += 1\n",
    "        current = current.next\n",
    "    return length\n",
    "head1 = Node(1)\n",
    "head1.next = Node(2)\n",
    "head1.next.next = Node(3)\n",
    "head1.next.next.next = Node(4)\n",
    "head1.next.next.next.next = Node(5)\n",
    "head2 = Node(6)\n",
    "head2.next = head1.next.next \n",
    "intersection_node = get_intersection_node(head1, head2)\n",
    "\n",
    "if intersection_node:\n",
    "    print(\"Intersection point:\", intersection_node.data)\n",
    "else:\n",
    "    print(\"No intersection point found\")"
   ]
  },
  {
   "cell_type": "code",
   "execution_count": null,
   "id": "f7471b81-6e6a-4946-941c-9e9748b9e387",
   "metadata": {},
   "outputs": [],
   "source": []
  },
  {
   "cell_type": "code",
   "execution_count": null,
   "id": "e0b7b289-c90f-4f72-94c9-bdbae63beb58",
   "metadata": {},
   "outputs": [],
   "source": []
  },
  {
   "cell_type": "code",
   "execution_count": 10,
   "id": "b3c2170d-fc37-4a62-bc61-89f30b1cb3b3",
   "metadata": {
    "tags": []
   },
   "outputs": [],
   "source": [
    "#PROBLEM 5"
   ]
  },
  {
   "cell_type": "code",
   "execution_count": 11,
   "id": "1a59a656-1176-4fb7-a1a7-c757032c32f9",
   "metadata": {
    "tags": []
   },
   "outputs": [],
   "source": [
    "#REMOVE DUPLICATES FROM A SORTED LINKED LIST."
   ]
  },
  {
   "cell_type": "code",
   "execution_count": 22,
   "id": "a3ab8332-8d56-4c65-97c0-4c05a8801e77",
   "metadata": {},
   "outputs": [
    {
     "name": "stdout",
     "output_type": "stream",
     "text": [
      "1\n",
      "2\n",
      "3\n"
     ]
    }
   ],
   "source": [
    "def remove_duplicates(head):\n",
    "    current = head\n",
    "\n",
    "    while current and current.next:\n",
    "        if current.data == current.next.data:\n",
    "            current.next = current.next.next\n",
    "        else:\n",
    "            current = current.next\n",
    "\n",
    "    return head\n",
    "head = Node(1)\n",
    "head.next = Node(1)\n",
    "head.next.next = Node(2)\n",
    "head.next.next.next = Node(3)\n",
    "head.next.next.next.next = Node(3)\n",
    "head = remove_duplicates(head)\n",
    "current = head\n",
    "while current:\n",
    "    print(current.data)\n",
    "    current = current.next"
   ]
  },
  {
   "cell_type": "code",
   "execution_count": null,
   "id": "58520d7c-2591-451c-a19a-f550d204244c",
   "metadata": {},
   "outputs": [],
   "source": []
  },
  {
   "cell_type": "code",
   "execution_count": null,
   "id": "83ec87e9-67ef-4058-a42a-eb58473787fc",
   "metadata": {},
   "outputs": [],
   "source": []
  },
  {
   "cell_type": "code",
   "execution_count": 12,
   "id": "56d86e67-ba58-4c70-a0c0-be157c954998",
   "metadata": {
    "tags": []
   },
   "outputs": [],
   "source": [
    "#PROBLEM 6"
   ]
  },
  {
   "cell_type": "code",
   "execution_count": 13,
   "id": "b36bcabe-f187-49d0-bbe2-e36b0d8c6a10",
   "metadata": {
    "tags": []
   },
   "outputs": [],
   "source": [
    "#ADD TWO NUMBERS REPRESENTED BY LINKED LISTS"
   ]
  },
  {
   "cell_type": "code",
   "execution_count": 35,
   "id": "501b40f9-b8ef-4459-8bb2-f3a48db2178d",
   "metadata": {},
   "outputs": [
    {
     "name": "stdout",
     "output_type": "stream",
     "text": [
      "7\n",
      "0\n",
      "8\n"
     ]
    }
   ],
   "source": [
    "class ListNode:\n",
    "    def __init__(self, val=0, next=None):\n",
    "        self.val = val\n",
    "        self.next = next\n",
    "\n",
    "def addTwoNumbers(l1, l2):\n",
    "    dummy = ListNode(0)\n",
    "    curr = dummy\n",
    "    carry = 0\n",
    "    \n",
    "    while l1 or l2 or carry:\n",
    "        sum = carry\n",
    "        \n",
    "        if l1:\n",
    "            sum += l1.val\n",
    "            l1 = l1.next\n",
    "        \n",
    "        if l2:\n",
    "            sum += l2.val\n",
    "            l2 = l2.next\n",
    "        \n",
    "        carry = sum // 10\n",
    "        curr.next = ListNode(sum % 10)\n",
    "        curr = curr.next\n",
    "    \n",
    "    return dummy.next\n",
    "\n",
    "l1 = ListNode(2)\n",
    "l1.next = ListNode(4)\n",
    "l1.next.next = ListNode(3)\n",
    "\n",
    "l2 = ListNode(5)\n",
    "l2.next = ListNode(6)\n",
    "l2.next.next = ListNode(4)\n",
    "\n",
    "result = addTwoNumbers(l1, l2)\n",
    "\n",
    "while result:\n",
    "    print(result.val)\n",
    "    result = result.next"
   ]
  },
  {
   "cell_type": "code",
   "execution_count": null,
   "id": "e5c3a341-50ba-4ba6-ace1-24571a1d52ca",
   "metadata": {},
   "outputs": [],
   "source": []
  },
  {
   "cell_type": "code",
   "execution_count": 14,
   "id": "e63569d7-c1dd-43d3-a191-b08b560e40d1",
   "metadata": {
    "tags": []
   },
   "outputs": [],
   "source": [
    "#PROBLEM 7"
   ]
  },
  {
   "cell_type": "code",
   "execution_count": 15,
   "id": "fa8a8f01-6163-4441-ab59-6927826b74fe",
   "metadata": {
    "tags": []
   },
   "outputs": [],
   "source": [
    "#SWAP NODES IN PAIRS IN A LINKED LIST."
   ]
  },
  {
   "cell_type": "code",
   "execution_count": 29,
   "id": "80b4d6e8-bcf4-48a9-ad2d-b290ce621797",
   "metadata": {
    "tags": []
   },
   "outputs": [
    {
     "name": "stdout",
     "output_type": "stream",
     "text": [
      "2 -> 1 -> 4 -> 3 -> None\n"
     ]
    }
   ],
   "source": [
    "class Node:\n",
    "    def __init__(self, data=None):\n",
    "        self.data = data\n",
    "        self.next = None\n",
    "\n",
    "def swap_pairs(head):\n",
    "    dummy = Node()  \n",
    "    dummy.next = head\n",
    "    previous = dummy\n",
    "    current = head\n",
    "\n",
    "    while current and current.next:\n",
    "        next = current.next\n",
    "        current.next = next.next\n",
    "        next.next = current\n",
    "        previous.next = next\n",
    "        previous = current\n",
    "        current = current.next\n",
    "\n",
    "    return dummy.next\n",
    "head = Node(1)\n",
    "head.next = Node(2)\n",
    "head.next.next = Node(3)\n",
    "head.next.next.next = Node(4)\n",
    "\n",
    "new_head = swap_pairs(head)\n",
    "current = new_head\n",
    "while current:\n",
    "    print(current.data, end=\" -> \")\n",
    "    current = current.next\n",
    "print(\"None\")"
   ]
  },
  {
   "cell_type": "code",
   "execution_count": null,
   "id": "a3244f99-d4b4-483e-b1b5-2be7da4f4789",
   "metadata": {},
   "outputs": [],
   "source": []
  },
  {
   "cell_type": "code",
   "execution_count": null,
   "id": "59419e7b-99f1-4b23-b0ea-74e71810239c",
   "metadata": {},
   "outputs": [],
   "source": []
  },
  {
   "cell_type": "code",
   "execution_count": 16,
   "id": "d9616915-28ef-43e3-abc5-a7ec9dd4051a",
   "metadata": {
    "tags": []
   },
   "outputs": [],
   "source": [
    "#PROBLEM 8"
   ]
  },
  {
   "cell_type": "code",
   "execution_count": 17,
   "id": "eba04c42-4399-4887-ba4d-8aa624e5efa6",
   "metadata": {
    "tags": []
   },
   "outputs": [],
   "source": [
    "#REVERSE NODES IN A LINKED IST IN GROUPS OF K."
   ]
  },
  {
   "cell_type": "code",
   "execution_count": 1,
   "id": "1acfc3e8-cc9e-4f7c-b4bf-318c5b37ecec",
   "metadata": {},
   "outputs": [
    {
     "name": "stdout",
     "output_type": "stream",
     "text": [
      "2\n",
      "1\n",
      "4\n",
      "3\n",
      "5\n"
     ]
    }
   ],
   "source": [
    "class ListNode:\n",
    "    def __init__(self, val =0, next = None):\n",
    "        self.val = val\n",
    "        self.next = next\n",
    "\n",
    "def reverseKGroup(head, k):\n",
    "    count = 0 \n",
    "    curr = head\n",
    "\n",
    "    while curr and count < k:\n",
    "        curr  = curr.next\n",
    "        count += 1\n",
    "    if count == k:\n",
    "        curr = reverseKGroup(curr,k)\n",
    "        while count > 0:\n",
    "            temp = head.next\n",
    "            head.next = curr\n",
    "            curr = head\n",
    "            head = temp\n",
    "            count -= 1\n",
    "        head = curr\n",
    "    return head\n",
    "head = ListNode(1)\n",
    "head.next = ListNode(2)\n",
    "head.next.next = ListNode(3)\n",
    "head.next.next.next = ListNode(4)\n",
    "head.next.next.next.next = ListNode(5)\n",
    "k=2\n",
    "result = reverseKGroup(head,k)\n",
    "while result:\n",
    "    print(result.val)\n",
    "    result = result.next"
   ]
  },
  {
   "cell_type": "code",
   "execution_count": null,
   "id": "c8c454e0-1050-4ca2-a8ca-090b662dc5ef",
   "metadata": {},
   "outputs": [],
   "source": []
  },
  {
   "cell_type": "code",
   "execution_count": null,
   "id": "11879fca-3768-4b0d-a0e2-3a91bcc1902c",
   "metadata": {},
   "outputs": [],
   "source": []
  },
  {
   "cell_type": "code",
   "execution_count": null,
   "id": "9b8f64d3-1ab2-4048-a38b-10598b4bb08b",
   "metadata": {
    "tags": []
   },
   "outputs": [],
   "source": [
    "#PROBLEM 9"
   ]
  },
  {
   "cell_type": "code",
   "execution_count": null,
   "id": "30e08bd0-9ba0-4079-83c3-a2fc03f43b77",
   "metadata": {
    "tags": []
   },
   "outputs": [],
   "source": [
    "#DETERMINE IF A LINKED LIST IS A PALINDROME."
   ]
  },
  {
   "cell_type": "code",
   "execution_count": 3,
   "id": "8772a458-6de6-4492-bc4d-3c4d3f8b5496",
   "metadata": {},
   "outputs": [],
   "source": [
    "class Node:\n",
    "    def __init__(self,value):\n",
    "        self.value = value\n",
    "        self.next = None\n",
    "def is_Palindrome(head):\n",
    "    stack = []\n",
    "    slow = fast = head\n",
    "    \n",
    "    while fast and fast.next:\n",
    "        stack.append(slow.value)\n",
    "        slow = slow.next\n",
    "        fast = fast.next.next\n",
    "    if fast:\n",
    "        slow = slow.next\n",
    "    while slow:\n",
    "        if slow.value!= stack.pop():\n",
    "            return False\n",
    "        slow = slow.next\n",
    "    return True"
   ]
  },
  {
   "cell_type": "code",
   "execution_count": null,
   "id": "15088d9e-49e3-4a00-b959-b44c74d1963a",
   "metadata": {},
   "outputs": [],
   "source": []
  },
  {
   "cell_type": "code",
   "execution_count": null,
   "id": "88512a8e-7a2c-456d-97bd-c7a3087485df",
   "metadata": {},
   "outputs": [],
   "source": []
  },
  {
   "cell_type": "code",
   "execution_count": 20,
   "id": "ad0cf983-b55f-44d8-aa98-0c4d70e05529",
   "metadata": {
    "tags": []
   },
   "outputs": [],
   "source": [
    "#PROBLEM 10"
   ]
  },
  {
   "cell_type": "code",
   "execution_count": 21,
   "id": "232978cb-5500-4eb3-8e79-62a77b64481d",
   "metadata": {
    "tags": []
   },
   "outputs": [],
   "source": [
    "#REMOTE A LINKED LIST TO THE RIGHT BY K PLACES."
   ]
  },
  {
   "cell_type": "code",
   "execution_count": 4,
   "id": "465fc473-7cec-4351-9e56-029f70303d43",
   "metadata": {},
   "outputs": [],
   "source": [
    "class Node:\n",
    "    def __init__(self,value):\n",
    "        self.value = value\n",
    "        self.next = None\n",
    "def rotate_right(head,k):\n",
    "    if not head or not head.next or k==0:\n",
    "        return head\n",
    "    length = 1\n",
    "    current = head\n",
    "    while current.next:\n",
    "        length += 1\n",
    "        current = current.next\n",
    "    rotations = k % length\n",
    "    if rotations == 0:\n",
    "        return head\n",
    "    current.next = head\n",
    "    for _ in range(length - rotations):\n",
    "        current = current.next\n",
    "    new_head = current.next\n",
    "    current.next =None\n",
    "    return new_head\n",
    "        \n",
    "    "
   ]
  },
  {
   "cell_type": "code",
   "execution_count": null,
   "id": "55309825-12c0-4bc3-94db-79ea570e45ef",
   "metadata": {},
   "outputs": [],
   "source": []
  },
  {
   "cell_type": "code",
   "execution_count": null,
   "id": "0fff2b72-e681-4128-9d34-2e7074323c3e",
   "metadata": {},
   "outputs": [],
   "source": []
  },
  {
   "cell_type": "code",
   "execution_count": 22,
   "id": "36c8b473-68c9-482c-9b2d-06be3d490ffa",
   "metadata": {
    "tags": []
   },
   "outputs": [],
   "source": [
    "#PROBLEM 11"
   ]
  },
  {
   "cell_type": "code",
   "execution_count": 23,
   "id": "974b53df-acc4-4f61-b0e7-3b41110f4597",
   "metadata": {
    "tags": []
   },
   "outputs": [],
   "source": [
    "#FLATTEN A MULTILEVEL DOUBLY LINKED LIST."
   ]
  },
  {
   "cell_type": "code",
   "execution_count": 11,
   "id": "4c761806-ff34-4902-ae50-195e831e147b",
   "metadata": {},
   "outputs": [],
   "source": [
    "class Node:\n",
    "    def __init__(self, value):\n",
    "        self.value = value\n",
    "        self.prev = None\n",
    "        self.next = None\n",
    "        self.child = None\n",
    "\n",
    "def flatten_list(head):\n",
    "    if not head:\n",
    "        return head\n",
    "\n",
    "    current = head\n",
    "\n",
    "    while current:\n",
    "        if current.child:\n",
    "            next_node = current.next\n",
    "            child_tail = flatten_list(current.child)\n",
    "\n",
    "            current.next = current.child\n",
    "            current.child.prev = current\n",
    "\n",
    "            current.child = None\n",
    "\n",
    "            child_tail.next = next_node\n",
    "\n",
    "            if next_node:\n",
    "                next_node.prev = child_tail\n",
    "\n",
    "        if not current.next:\n",
    "            break\n",
    "\n",
    "        current = current.next\n",
    "\n",
    "    return head\n"
   ]
  },
  {
   "cell_type": "code",
   "execution_count": null,
   "id": "b1397adc-19f0-4119-8032-10ade961fc9d",
   "metadata": {},
   "outputs": [],
   "source": []
  },
  {
   "cell_type": "code",
   "execution_count": null,
   "id": "2143a0e7-c313-489b-9382-279677802490",
   "metadata": {},
   "outputs": [],
   "source": []
  },
  {
   "cell_type": "code",
   "execution_count": 24,
   "id": "d5ac386e-b2c1-447a-9ede-bb62c9fce09a",
   "metadata": {
    "tags": []
   },
   "outputs": [],
   "source": [
    "#PROBLEM 12"
   ]
  },
  {
   "cell_type": "code",
   "execution_count": 25,
   "id": "475d28af-131e-4cdc-90c6-2992078cb972",
   "metadata": {
    "tags": []
   },
   "outputs": [],
   "source": [
    "#REARRANGE A LINKED LIST SUCH THAT ALL EVEN POSITIONED NODES ARE PLACED AT THE END."
   ]
  },
  {
   "cell_type": "code",
   "execution_count": 24,
   "id": "59cf5a15-2cc8-40d5-8548-9965f84a0ece",
   "metadata": {},
   "outputs": [],
   "source": [
    "class ListNode:\n",
    "    def __init__(self, val=0, next=None):\n",
    "        self.val = val\n",
    "        self.next = next\n",
    "\n",
    "def rearrange_linked_list(head):\n",
    "    if not head or not head.next:\n",
    "        return head\n",
    "    \n",
    "    odd_head = head\n",
    "    even_head = head.next\n",
    "\n",
    "    odd_ptr = odd_head\n",
    "    even_ptr = even_head\n",
    "\n",
    "    while even_ptr and even_ptr.next:\n",
    "        odd_ptr.next = even_ptr.next\n",
    "        odd_ptr = odd_ptr.next\n",
    "\n",
    "        even_ptr.next = odd_ptr.next\n",
    "        even_ptr = even_ptr.next\n",
    "\n",
    "    odd_ptr.next = even_head\n",
    "    return odd_head"
   ]
  },
  {
   "cell_type": "code",
   "execution_count": null,
   "id": "856845ca-c4f7-404a-b342-5ae0a2e885b4",
   "metadata": {},
   "outputs": [],
   "source": []
  },
  {
   "cell_type": "code",
   "execution_count": null,
   "id": "2d35fec5-b643-441c-a5a3-a6ddc96fab6a",
   "metadata": {},
   "outputs": [],
   "source": []
  },
  {
   "cell_type": "code",
   "execution_count": 26,
   "id": "b80b27b6-2b0e-4d96-a7d7-74de1e6a1c22",
   "metadata": {
    "tags": []
   },
   "outputs": [],
   "source": [
    "#PROBLEM 13"
   ]
  },
  {
   "cell_type": "code",
   "execution_count": 27,
   "id": "bf4202dc-12ae-4020-8c4f-ceca6c05c34a",
   "metadata": {
    "tags": []
   },
   "outputs": [],
   "source": [
    "#GIVEN A NON-NEGATIVE NUMBER REPRESENTED AS A LINKED LIST, ADD ONE TO IT."
   ]
  },
  {
   "cell_type": "code",
   "execution_count": 27,
   "id": "2bccbba4-9bc8-4ad6-8d8a-4273d18030e7",
   "metadata": {},
   "outputs": [],
   "source": [
    "class ListNode:\n",
    "    def __init__(self, val=0, next=None):\n",
    "        self.val = val\n",
    "        self.next = next\n",
    "\n",
    "def add_one(head):\n",
    "    curr = head\n",
    "    rightmost_non_nine = None\n",
    "    \n",
    "    while curr:\n",
    "        if curr.val != 9:\n",
    "            rightmost_non_nine = curr\n",
    "        curr = curr.next\n",
    "\n",
    "    if not rightmost_non_nine:\n",
    "        new_head = ListNode(1)\n",
    "        new_head.next = head\n",
    "        curr = head\n",
    "        \n",
    "        while curr:\n",
    "            curr.val = 0\n",
    "            curr = curr.next\n",
    "        return new_head\n",
    "    rightmost_non_nine.val += 1\n",
    "    curr = rightmost_non_nine.next\n",
    "    \n",
    "    while curr:\n",
    "        curr.val = 0\n",
    "        curr = curr.next\n",
    "    \n",
    "    return head"
   ]
  },
  {
   "cell_type": "code",
   "execution_count": null,
   "id": "a97fac8c-e79d-4e84-981d-e5d80e377887",
   "metadata": {},
   "outputs": [],
   "source": []
  },
  {
   "cell_type": "code",
   "execution_count": null,
   "id": "7f269be9-bcda-4dad-96ce-84b6823cfa99",
   "metadata": {},
   "outputs": [],
   "source": []
  },
  {
   "cell_type": "code",
   "execution_count": 28,
   "id": "a496afc7-e0d1-4ada-89bc-2f221a36fc62",
   "metadata": {
    "tags": []
   },
   "outputs": [],
   "source": [
    "#PROBLEM 14"
   ]
  },
  {
   "cell_type": "code",
   "execution_count": 1,
   "id": "39c0204b-a2bd-4c5a-b46d-b7495dd15d41",
   "metadata": {},
   "outputs": [],
   "source": [
    "#GIVEN A SORTED ARRAY AND A TARGET VALUE, RETURN THE INDEX IF THE TARGET IF THE TARGET IS FOUND. IF NOT,RETURN THE INDEX WHERE IT WOULD BE INSERTED."
   ]
  },
  {
   "cell_type": "code",
   "execution_count": 26,
   "id": "16aef781-0a8a-488b-8e7b-cbad28d514e0",
   "metadata": {},
   "outputs": [
    {
     "name": "stdout",
     "output_type": "stream",
     "text": [
      "2\n"
     ]
    }
   ],
   "source": [
    "def search_insert(nums, target):\n",
    "    left = 0\n",
    "    right = len(nums) - 1\n",
    "    \n",
    "    while left <= right:\n",
    "        mid = (left + right) // 2\n",
    "        \n",
    "        if nums[mid] == target:\n",
    "            return mid\n",
    "        \n",
    "        if nums[mid] < target:\n",
    "            left = mid + 1\n",
    "        else:\n",
    "            right = mid - 1\n",
    "    \n",
    "    return left\n",
    "nums = [1, 3, 5, 6]\n",
    "target = 5\n",
    "index = search_insert(nums, target)\n",
    "print(index)  \n"
   ]
  },
  {
   "cell_type": "code",
   "execution_count": null,
   "id": "5a425cd5-b6e8-41a9-b19c-1a676daea3f6",
   "metadata": {},
   "outputs": [],
   "source": []
  },
  {
   "cell_type": "code",
   "execution_count": null,
   "id": "21ffc91a-1a96-4dea-a39c-f5ca65ad3eb4",
   "metadata": {},
   "outputs": [],
   "source": []
  },
  {
   "cell_type": "code",
   "execution_count": 2,
   "id": "8a36785c-7c75-45ec-819a-1acc9cc20acd",
   "metadata": {
    "tags": []
   },
   "outputs": [],
   "source": [
    "#PROBLEM 15"
   ]
  },
  {
   "cell_type": "code",
   "execution_count": 3,
   "id": "7f5aeb2a-a319-4254-a154-c6c23e398305",
   "metadata": {
    "tags": []
   },
   "outputs": [],
   "source": [
    "#FIND THE MINIMUM ELEMENT IN A RELATED SORTED ARRAY."
   ]
  },
  {
   "cell_type": "code",
   "execution_count": 23,
   "id": "e7d23c44-8f63-40c5-b46c-62bef7c10829",
   "metadata": {},
   "outputs": [],
   "source": [
    "def find_minimum(nums):\n",
    "    left = 0\n",
    "    right = len(nums) - 1\n",
    "\n",
    "    while left < right:\n",
    "        mid = left + (right - left) // 2\n",
    "\n",
    "        if nums[mid] > nums[right]:\n",
    "            left = mid + 1\n",
    "        else:\n",
    "            right = mid\n",
    "\n",
    "    return nums[left]\n",
    "\n"
   ]
  },
  {
   "cell_type": "code",
   "execution_count": null,
   "id": "9b9b41ed-1f9d-4d4f-a5e0-20df55750d8d",
   "metadata": {},
   "outputs": [],
   "source": []
  },
  {
   "cell_type": "code",
   "execution_count": null,
   "id": "d6bcbc9e-9e19-468c-baa1-46142039be30",
   "metadata": {},
   "outputs": [],
   "source": []
  },
  {
   "cell_type": "code",
   "execution_count": 4,
   "id": "a9a41c3c-1f2f-465d-8e67-1384f0ec97b9",
   "metadata": {
    "tags": []
   },
   "outputs": [],
   "source": [
    "#PROBLEM 16"
   ]
  },
  {
   "cell_type": "code",
   "execution_count": 5,
   "id": "e9b67f05-53ca-4578-beea-215530214cb5",
   "metadata": {
    "tags": []
   },
   "outputs": [],
   "source": [
    "#SEARCH FOR A TARGET VALUE IN A ROTATED SORTED ARRAY."
   ]
  },
  {
   "cell_type": "code",
   "execution_count": 22,
   "id": "fa8b06af-0710-425e-bf15-87f7e37ea60e",
   "metadata": {},
   "outputs": [],
   "source": [
    "def search_rotated_array(nums, target):\n",
    "    left = 0\n",
    "    right = len(nums) - 1\n",
    "\n",
    "    while left <= right:\n",
    "        mid = left + (right - left) // 2\n",
    "\n",
    "        if nums[mid] == target:\n",
    "            return mid\n",
    "\n",
    "        if nums[left] <= nums[mid]:\n",
    "            if nums[left] <= target <= nums[mid]:\n",
    "                right = mid - 1\n",
    "            else:\n",
    "                left = mid + 1\n",
    "        else:\n",
    "            if nums[mid] <= target <= nums[right]:\n",
    "                left = mid + 1\n",
    "            else:\n",
    "                right = mid - 1\n",
    "\n",
    "    return -1"
   ]
  },
  {
   "cell_type": "code",
   "execution_count": null,
   "id": "eae97e6f-b93d-4035-8601-49a275cff5bb",
   "metadata": {},
   "outputs": [],
   "source": []
  },
  {
   "cell_type": "code",
   "execution_count": null,
   "id": "b6eaef1d-920d-4be6-b7e0-3e97e42a2a7c",
   "metadata": {},
   "outputs": [],
   "source": []
  },
  {
   "cell_type": "code",
   "execution_count": 6,
   "id": "5becf7a2-dee6-4281-a0b9-58f16ee89794",
   "metadata": {
    "tags": []
   },
   "outputs": [],
   "source": [
    "#PROBLEM 17"
   ]
  },
  {
   "cell_type": "code",
   "execution_count": 7,
   "id": "06f830f5-5187-4e87-b63b-c3ba28ce37e9",
   "metadata": {
    "tags": []
   },
   "outputs": [],
   "source": [
    "#FIND THE PEAK ELEMENT IN AN ARRAY. A PEAK ELEMENT IS GREATER THAN ITS NEIGHBORS."
   ]
  },
  {
   "cell_type": "code",
   "execution_count": 21,
   "id": "0f253390-defc-4f00-961b-7ba6b97c2080",
   "metadata": {},
   "outputs": [],
   "source": [
    "def find_peak_element(nums):\n",
    "    left = 0\n",
    "    right = len(nums) - 1\n",
    "\n",
    "    while left <= right:\n",
    "        mid = left + (right - left) // 2\n",
    "\n",
    "        if (mid == 0 or nums[mid] > nums[mid-1]) and (mid == len(nums)-1 or nums[mid] > nums[mid+1]):\n",
    "            return nums[mid]\n",
    "        elif mid > 0 and nums[mid] < nums[mid-1]:\n",
    "            right = mid - 1\n",
    "        else:\n",
    "            left = mid + 1\n",
    "\n",
    "    return -1  \n"
   ]
  },
  {
   "cell_type": "code",
   "execution_count": null,
   "id": "91f86fc3-7b9c-47f5-8807-7d5638591898",
   "metadata": {},
   "outputs": [],
   "source": []
  },
  {
   "cell_type": "code",
   "execution_count": null,
   "id": "ffbfac9b-268e-43ca-adb8-41526b010964",
   "metadata": {},
   "outputs": [],
   "source": []
  },
  {
   "cell_type": "code",
   "execution_count": 8,
   "id": "f592698c-3c98-438b-861a-fb76444f4c48",
   "metadata": {
    "tags": []
   },
   "outputs": [],
   "source": [
    "#PROBLEM 18"
   ]
  },
  {
   "cell_type": "code",
   "execution_count": 9,
   "id": "9cfb8060-f204-44cf-86be-daaad941e281",
   "metadata": {
    "tags": []
   },
   "outputs": [],
   "source": [
    "#GIVEN A M*N MATRIX WHERE EACH ROW AND COLUMN IS SORTED IN ASCENDING ORDER, COUNT THE NUMBER OF NEGATIVE NUMBERS."
   ]
  },
  {
   "cell_type": "code",
   "execution_count": 19,
   "id": "d5627e5c-c4e0-4a65-b132-e2110e251129",
   "metadata": {},
   "outputs": [],
   "source": [
    "def count_negative_numbers(matrix):\n",
    "    count = 0\n",
    "    rows = len(matrix)\n",
    "    cols = len(matrix[0])\n",
    "    row = 0\n",
    "    col = cols - 1\n",
    "\n",
    "    while row < rows and col >= 0:\n",
    "        if matrix[row][col] < 0:\n",
    "            count += 1\n",
    "            col -= 1\n",
    "        else:\n",
    "            row += 1\n",
    "\n",
    "    return count\n"
   ]
  },
  {
   "cell_type": "code",
   "execution_count": null,
   "id": "45d51aaf-5bb2-4383-9aea-a52adae5725e",
   "metadata": {},
   "outputs": [],
   "source": []
  },
  {
   "cell_type": "code",
   "execution_count": null,
   "id": "1a89f6e8-80ce-4488-b745-9e2eac211f0f",
   "metadata": {},
   "outputs": [],
   "source": []
  },
  {
   "cell_type": "code",
   "execution_count": 10,
   "id": "ccac6c18-5505-4790-992c-4886b0cf58dc",
   "metadata": {
    "tags": []
   },
   "outputs": [],
   "source": [
    "#PROBLEM 19"
   ]
  },
  {
   "cell_type": "code",
   "execution_count": 11,
   "id": "2ad47349-33e3-4d2d-9c13-fe1368e6598b",
   "metadata": {
    "tags": []
   },
   "outputs": [],
   "source": [
    "#GIVEN A 2D MATRIX SORTED IN ASCENDING ORDER IN EACH ROW, AND THE FIRST INTEGER OF EACH ROW IS GREATER THAN THE LAST INTEGER OF THE PREVIOUS ROW, DETERMINE IF A TARGET VALUE IS PRESENT IN THE MATRIX."
   ]
  },
  {
   "cell_type": "code",
   "execution_count": 18,
   "id": "36e8bbce-8e7e-4c3c-8f5f-705e5e7467fa",
   "metadata": {},
   "outputs": [],
   "source": [
    "def search_matrix(matrix, target):\n",
    "    if not matrix or not matrix[0]:\n",
    "        return False\n",
    "\n",
    "    rows = len(matrix)\n",
    "    cols = len(matrix[0])\n",
    "    left = 0\n",
    "    right = rows * cols - 1\n",
    "\n",
    "    while left <= right:\n",
    "        mid = left + (right - left) // 2\n",
    "        row = mid // cols\n",
    "        col = mid % cols\n",
    "\n",
    "        if matrix[row][col] == target:\n",
    "            return True\n",
    "        elif matrix[row][col] < target:\n",
    "            left = mid + 1\n",
    "        else:\n",
    "            right = mid - 1\n",
    "\n",
    "    return False\n"
   ]
  },
  {
   "cell_type": "code",
   "execution_count": null,
   "id": "fdd5d1d2-c7fd-42b8-835f-69358a6f154f",
   "metadata": {},
   "outputs": [],
   "source": []
  },
  {
   "cell_type": "code",
   "execution_count": null,
   "id": "1196138b-558a-4732-99a4-55483789b209",
   "metadata": {},
   "outputs": [],
   "source": []
  },
  {
   "cell_type": "code",
   "execution_count": 12,
   "id": "0af0f7ed-09db-4f02-b119-38b31e5e8a25",
   "metadata": {
    "tags": []
   },
   "outputs": [],
   "source": [
    "#PROBLEM 20"
   ]
  },
  {
   "cell_type": "code",
   "execution_count": 13,
   "id": "466d136d-3e74-4d7e-8ad2-eb5e58d25fde",
   "metadata": {
    "tags": []
   },
   "outputs": [],
   "source": [
    "#FIND MEDIAN IN TWO SORTED ARRAYS."
   ]
  },
  {
   "cell_type": "code",
   "execution_count": 17,
   "id": "6bf25cc6-c1b5-4e7f-850f-eeb3d4ba58a8",
   "metadata": {},
   "outputs": [],
   "source": [
    "def find_median_sorted_arrays(nums1, nums2):\n",
    "    if len(nums1) > len(nums2):\n",
    "        nums1, nums2 = nums2, nums1\n",
    "\n",
    "    m, n = len(nums1), len(nums2)\n",
    "    left, right = 0, m\n",
    "    median1, median2 = 0, 0\n",
    "\n",
    "    while left <= right:\n",
    "        partition1 = (left + right) // 2\n",
    "        partition2 = (m + n + 1) // 2 - partition1\n",
    "\n",
    "        max_left1 = float('-inf') if partition1 == 0 else nums1[partition1 - 1]\n",
    "        min_right1 = float('inf') if partition1 == m else nums1[partition1]\n",
    "        max_left2 = float('-inf') if partition2 == 0 else nums2[partition2 - 1]\n",
    "        min_right2 = float('inf') if partition2 == n else nums2[partition2]\n",
    "\n",
    "        if max_left1 <= min_right2 and max_left2 <= min_right1:\n",
    "            if (m + n) % 2 == 0:\n",
    "                median1 = max(max_left1, max_left2)\n",
    "                median2 = min(min_right1, min_right2)\n",
    "                return (median1 + median2) / 2\n",
    "            else:\n",
    "                return max(max_left1, max_left2)\n",
    "        elif max_left1 > min_right2:\n",
    "            right = partition1 - 1\n",
    "        else:\n",
    "            left = partition1 + 1\n",
    "\n",
    "    return -1\n"
   ]
  },
  {
   "cell_type": "code",
   "execution_count": null,
   "id": "23288dfb-8b98-46f8-a30f-2f90285c7328",
   "metadata": {},
   "outputs": [],
   "source": []
  },
  {
   "cell_type": "code",
   "execution_count": null,
   "id": "55e2347f-9918-45df-b112-d6b41570d566",
   "metadata": {},
   "outputs": [],
   "source": []
  },
  {
   "cell_type": "code",
   "execution_count": 14,
   "id": "0b15009e-3861-4779-8117-efa2e276fc52",
   "metadata": {
    "tags": []
   },
   "outputs": [],
   "source": [
    "#PROBLEM 21"
   ]
  },
  {
   "cell_type": "code",
   "execution_count": 15,
   "id": "599fd4ad-dd93-4220-9c0a-e68289daadc8",
   "metadata": {
    "tags": []
   },
   "outputs": [],
   "source": [
    "#GIVEN A SORTED CHARACTER ARRAY AND A TARGET LETTER, FIND THE SMALLEST LETTER IN THE ARRAY THAT IS GREATER THAN THE TARGET."
   ]
  },
  {
   "cell_type": "code",
   "execution_count": 15,
   "id": "e58c9ab0-82f5-4d53-94d9-db4e2d324517",
   "metadata": {},
   "outputs": [],
   "source": [
    "def next_greatest_letter(letters, target):\n",
    "    left = 0\n",
    "    right = len(letters) - 1\n",
    "    result = letters[0]  \n",
    "\n",
    "    while left <= right:\n",
    "        mid = left + (right - left) // 2\n",
    "\n",
    "        if letters[mid] > target:\n",
    "            result = letters[mid]\n",
    "            right = mid - 1\n",
    "        else:\n",
    "            left = mid + 1\n",
    "\n",
    "    return result\n"
   ]
  },
  {
   "cell_type": "code",
   "execution_count": null,
   "id": "7f0d0dca-f8e4-43df-9c0a-9b21b43f0f5c",
   "metadata": {},
   "outputs": [],
   "source": []
  },
  {
   "cell_type": "code",
   "execution_count": null,
   "id": "d842cf07-4f88-4139-8027-14fbd41746d0",
   "metadata": {},
   "outputs": [],
   "source": []
  },
  {
   "cell_type": "code",
   "execution_count": 16,
   "id": "630ace38-ee55-4cd9-a1e3-f4f86d0e5fc3",
   "metadata": {
    "tags": []
   },
   "outputs": [],
   "source": [
    "#PROBLEM 22"
   ]
  },
  {
   "cell_type": "code",
   "execution_count": 17,
   "id": "9b4d64b4-9d06-4660-82e4-d528326e4601",
   "metadata": {
    "tags": []
   },
   "outputs": [],
   "source": [
    "#GIVEN AN ARRAY WITH N OBJECT WITH N OBJECTS COLORED RED, WHITE OR BLUE, SORT THEM IN - PLACE SO THAT OBJECTS OF THE SAME COLOR ARE ADJACENT, WITH THE COLORS IN THE ORDER RED, WHITE AND BLUE."
   ]
  },
  {
   "cell_type": "code",
   "execution_count": 13,
   "id": "e0ce1271-6d83-4566-916d-784954139297",
   "metadata": {},
   "outputs": [],
   "source": [
    "def sort_colors(nums):\n",
    "    low = 0\n",
    "    mid = 0\n",
    "    high = len(nums) - 1\n",
    "\n",
    "    while mid <= high:\n",
    "        if nums[mid] == 0:\n",
    "            nums[low], nums[mid] = nums[mid], nums[low]\n",
    "            low += 1\n",
    "            mid += 1\n",
    "        elif nums[mid] == 1:\n",
    "            mid += 1\n",
    "        elif nums[mid] == 2:\n",
    "            nums[mid], nums[high] = nums[high], nums[mid]\n",
    "            high -= 1\n",
    "\n",
    "    return nums"
   ]
  },
  {
   "cell_type": "code",
   "execution_count": null,
   "id": "5dd4a556-ec34-4d88-8bc4-bd41348282bc",
   "metadata": {},
   "outputs": [],
   "source": []
  },
  {
   "cell_type": "code",
   "execution_count": null,
   "id": "d4af5439-ba0e-4094-b64c-6df443bb6558",
   "metadata": {},
   "outputs": [],
   "source": []
  },
  {
   "cell_type": "code",
   "execution_count": 18,
   "id": "cccaa3ba-ae6d-4629-a556-694efaf4e553",
   "metadata": {
    "tags": []
   },
   "outputs": [],
   "source": [
    "#PROBLEM 23"
   ]
  },
  {
   "cell_type": "code",
   "execution_count": 19,
   "id": "925ebc28-e55e-4a22-be4e-db897796c3f9",
   "metadata": {
    "tags": []
   },
   "outputs": [],
   "source": [
    "#FIND THE KTH LARGEST ELEMENT IN AN UNSORTED ARRAY."
   ]
  },
  {
   "cell_type": "code",
   "execution_count": 54,
   "id": "a0954168-1738-4111-a3fe-fe6279eacf70",
   "metadata": {
    "tags": []
   },
   "outputs": [
    {
     "ename": "NameError",
     "evalue": "name 'pivot_index' is not defined",
     "output_type": "error",
     "traceback": [
      "\u001b[1;31m---------------------------------------------------------------------------\u001b[0m",
      "\u001b[1;31mNameError\u001b[0m                                 Traceback (most recent call last)",
      "Cell \u001b[1;32mIn[54], line 24\u001b[0m\n\u001b[0;32m     22\u001b[0m array\u001b[38;5;241m=\u001b[39m[\u001b[38;5;241m3\u001b[39m,\u001b[38;5;241m2\u001b[39m,\u001b[38;5;241m1\u001b[39m,\u001b[38;5;241m5\u001b[39m,\u001b[38;5;241m6\u001b[39m,\u001b[38;5;241m4\u001b[39m]\n\u001b[0;32m     23\u001b[0m k\u001b[38;5;241m=\u001b[39m\u001b[38;5;241m2\u001b[39m\n\u001b[1;32m---> 24\u001b[0m kth_largest \u001b[38;5;241m=\u001b[39m find_kth_largest(array,k)\n\u001b[0;32m     25\u001b[0m \u001b[38;5;28mprint\u001b[39m(kth_largest)\n",
      "Cell \u001b[1;32mIn[54], line 21\u001b[0m, in \u001b[0;36mfind_kth_largest\u001b[1;34m(arr, k)\u001b[0m\n\u001b[0;32m     19\u001b[0m \u001b[38;5;28;01mif\u001b[39;00m k \u001b[38;5;241m<\u001b[39m\u001b[38;5;241m1\u001b[39m \u001b[38;5;129;01mor\u001b[39;00m k\u001b[38;5;241m>\u001b[39mn:\n\u001b[0;32m     20\u001b[0m     \u001b[38;5;28;01mreturn\u001b[39;00m \u001b[38;5;28;01mNone\u001b[39;00m\n\u001b[1;32m---> 21\u001b[0m \u001b[38;5;28;01mreturn\u001b[39;00m quickselect(arr, \u001b[38;5;241m0\u001b[39m, n\u001b[38;5;241m-\u001b[39m\u001b[38;5;241m1\u001b[39m,n\u001b[38;5;241m-\u001b[39mk)\n",
      "Cell \u001b[1;32mIn[54], line 13\u001b[0m, in \u001b[0;36mquickselect\u001b[1;34m(arr, low, high, k)\u001b[0m\n\u001b[0;32m     11\u001b[0m \u001b[38;5;28;01mif\u001b[39;00m low \u001b[38;5;241m==\u001b[39m high:\n\u001b[0;32m     12\u001b[0m     \u001b[38;5;28;01mreturn\u001b[39;00m arr[low]\n\u001b[1;32m---> 13\u001b[0m \u001b[38;5;28;01melif\u001b[39;00m k \u001b[38;5;241m<\u001b[39m pivot_index:\n\u001b[0;32m     14\u001b[0m     \u001b[38;5;28;01mreturn\u001b[39;00m quickselect(arr,low,pivot_index\u001b[38;5;241m-\u001b[39m\u001b[38;5;241m1\u001b[39m,k)\n\u001b[0;32m     15\u001b[0m \u001b[38;5;28;01melse\u001b[39;00m:\n",
      "\u001b[1;31mNameError\u001b[0m: name 'pivot_index' is not defined"
     ]
    }
   ],
   "source": [
    "def partition(arr,low,high):\n",
    "    pivot = arr[high]\n",
    "    i=low - 1\n",
    "    for j in range(low,high):\n",
    "        if arr[j]<=pivot:\n",
    "            i+=1\n",
    "            arr[i],arr[j] = arr[j],arr[i]\n",
    "        arr[i+1],arr[high] = arr[high],arr[i+1]\n",
    "        return i+1\n",
    "def quickselect(arr,low,high, k):\n",
    "    if low == high:\n",
    "        return arr[low]\n",
    "    pivot_index = partition(arr,low,high)\n",
    "    if k < pivot_index:\n",
    "        return arr[k]\n",
    "    elif k<pivot_index\n",
    "        return quickselect(arr,low,pivot_index-1,k)\n",
    "    else:\n",
    "        return quickselect(arr,pivot_index +1, high,k)\n",
    "def find_kth_largest(arr,k):\n",
    "    n=len(arr)\n",
    "    if k <1 or k>n:\n",
    "        return None\n",
    "    return quickselect(arr, 0, n-1,n-k)\n",
    "array=[3,2,1,5,6,4]\n",
    "k=2\n",
    "kth_largest = find_kth_largest(array,k)\n",
    "print(kth_largest)"
   ]
  },
  {
   "cell_type": "code",
   "execution_count": null,
   "id": "3c8d05c0-ff16-4c5e-8583-7256f53ee0b9",
   "metadata": {},
   "outputs": [],
   "source": []
  },
  {
   "cell_type": "code",
   "execution_count": null,
   "id": "136bd25e-92e7-4262-b564-c57a3a1f32ef",
   "metadata": {},
   "outputs": [],
   "source": []
  },
  {
   "cell_type": "code",
   "execution_count": 20,
   "id": "57d6a29b-b220-4e73-8502-931998abea1a",
   "metadata": {
    "tags": []
   },
   "outputs": [],
   "source": [
    "#PROBLEM 24"
   ]
  },
  {
   "cell_type": "code",
   "execution_count": 21,
   "id": "63e77957-5309-493e-a691-c291f92960e1",
   "metadata": {
    "tags": []
   },
   "outputs": [],
   "source": [
    "#GIVEN AN UNSORTED ARRAY, RECORDER IT IN-PLACE SUCH THAT NUMS[0] <=NUMS[1]>=NUM[2]<=NUMS[3]...."
   ]
  },
  {
   "cell_type": "code",
   "execution_count": 52,
   "id": "f55df090-5f86-489b-9939-c27fd597351a",
   "metadata": {
    "tags": []
   },
   "outputs": [
    {
     "name": "stdout",
     "output_type": "stream",
     "text": [
      "[3, 4, 2, 5, 1, 6]\n"
     ]
    }
   ],
   "source": [
    "def reorder_array(nums):\n",
    "    n= len(nums)\n",
    "    for i in range(n-1):\n",
    "        for j in range(n-i-1):\n",
    "            if i%2==0:\n",
    "                if nums[j]>nums[j+1]:\n",
    "                    nums[j],nums[j+1]=nums[j+1],nums[j]\n",
    "            else:\n",
    "                if nums[j]<nums[j+1]:\n",
    "                    nums[j],nums[j+1]=nums[j+1],nums[j]\n",
    "array = [3,5,2,1,6,4]\n",
    "reorder_array(array)\n",
    "print(array)"
   ]
  },
  {
   "cell_type": "code",
   "execution_count": null,
   "id": "1e8da0cb-4130-4b62-8bd5-704955e8843b",
   "metadata": {},
   "outputs": [],
   "source": []
  },
  {
   "cell_type": "code",
   "execution_count": null,
   "id": "a5c279a2-8253-4e6c-8439-8521e8c3e20c",
   "metadata": {},
   "outputs": [],
   "source": []
  },
  {
   "cell_type": "code",
   "execution_count": 22,
   "id": "186593d4-cedf-43e9-9cd0-996917ea38dc",
   "metadata": {
    "tags": []
   },
   "outputs": [],
   "source": [
    "#PROBLEM 25"
   ]
  },
  {
   "cell_type": "code",
   "execution_count": 23,
   "id": "679167d6-e165-4e8e-9a0d-4cd892b77674",
   "metadata": {
    "tags": []
   },
   "outputs": [],
   "source": [
    "#GIVEN AN ARRAY OF INTEGERS, CALCULATE THE SUM OF ALL ITS ELEMENTS."
   ]
  },
  {
   "cell_type": "code",
   "execution_count": 50,
   "id": "da89682f-f89b-4155-94f1-19779c4de5d0",
   "metadata": {
    "tags": []
   },
   "outputs": [
    {
     "name": "stdout",
     "output_type": "stream",
     "text": [
      "15\n"
     ]
    }
   ],
   "source": [
    "def calculate_sum(arr):\n",
    "    total_sum = 0\n",
    "    for num in arr:\n",
    "        total_sum += num\n",
    "    return total_sum\n",
    "array = [1,2,3,4,5]\n",
    "sum_of_elements = calculate_sum(array)\n",
    "print(sum_of_elements)"
   ]
  },
  {
   "cell_type": "code",
   "execution_count": null,
   "id": "1f03628d-ae80-463c-b4a6-ed7d170b6a48",
   "metadata": {},
   "outputs": [],
   "source": []
  },
  {
   "cell_type": "code",
   "execution_count": null,
   "id": "c95be9eb-b5ee-4087-8e46-342c6d24730a",
   "metadata": {},
   "outputs": [],
   "source": []
  },
  {
   "cell_type": "code",
   "execution_count": 24,
   "id": "2ad821e7-145a-4a1a-b70a-6438cf49c36d",
   "metadata": {
    "tags": []
   },
   "outputs": [],
   "source": [
    "#PROBLEM 26"
   ]
  },
  {
   "cell_type": "code",
   "execution_count": 25,
   "id": "2704bb0e-6022-46d8-812b-907c06d11d5d",
   "metadata": {
    "tags": []
   },
   "outputs": [],
   "source": [
    "#FIND THE MAXIMUM ELEMENT IN AN ARRAY OF INTEGERS."
   ]
  },
  {
   "cell_type": "code",
   "execution_count": 49,
   "id": "41ca645e-17a3-4d86-b422-fd35e2e0ff2e",
   "metadata": {
    "tags": []
   },
   "outputs": [
    {
     "name": "stdout",
     "output_type": "stream",
     "text": [
      "9\n"
     ]
    }
   ],
   "source": [
    "def find_maximum(arr):\n",
    "    if len(arr)==0:\n",
    "        return None\n",
    "    max_element=arr[0]\n",
    "    for i in range(1,len(arr)):\n",
    "        if arr[i] >max_element:\n",
    "            max_element = arr[i]\n",
    "    return max_element\n",
    "array = [3,7,2,9,4,1]\n",
    "maximum = find_maximum(array)\n",
    "print(maximum)"
   ]
  },
  {
   "cell_type": "code",
   "execution_count": null,
   "id": "754c1c56-7637-494a-8b27-c451244f8616",
   "metadata": {},
   "outputs": [],
   "source": []
  },
  {
   "cell_type": "code",
   "execution_count": null,
   "id": "e10f9bb4-580d-42a8-9b96-8d282dafa7b6",
   "metadata": {},
   "outputs": [],
   "source": []
  },
  {
   "cell_type": "code",
   "execution_count": 26,
   "id": "c6267b86-1410-44a0-8f8a-082a2b745be2",
   "metadata": {
    "tags": []
   },
   "outputs": [],
   "source": [
    "#PROBLEM 27"
   ]
  },
  {
   "cell_type": "code",
   "execution_count": 27,
   "id": "1c19d5ee-e162-424d-9383-245f97f0cdb3",
   "metadata": {
    "tags": []
   },
   "outputs": [],
   "source": [
    "#IMPLEMENT LINEAR SEARCH TO FIND THE INDEX OF A TARGET ELEMENT IN AN ARRAY."
   ]
  },
  {
   "cell_type": "code",
   "execution_count": 48,
   "id": "2a1f08af-24f3-4a89-b200-ab1ba4a1801a",
   "metadata": {
    "tags": []
   },
   "outputs": [
    {
     "name": "stdout",
     "output_type": "stream",
     "text": [
      "2\n"
     ]
    }
   ],
   "source": [
    "def linear_search(arr,target):\n",
    "    for i in range(len(arr)):\n",
    "        if arr[i]==target:\n",
    "            return i\n",
    "    return -1\n",
    "array = [5,3,8,2,7,4]\n",
    "target_element = 8\n",
    "index = linear_search(array,target_element)\n",
    "print(index)"
   ]
  },
  {
   "cell_type": "code",
   "execution_count": null,
   "id": "5504a22e-fa97-476b-b950-8fc96c81dda6",
   "metadata": {},
   "outputs": [],
   "source": []
  },
  {
   "cell_type": "code",
   "execution_count": null,
   "id": "cb1e0862-3099-4ef1-b11d-b9dd33b98d06",
   "metadata": {},
   "outputs": [],
   "source": []
  },
  {
   "cell_type": "code",
   "execution_count": 28,
   "id": "86ab82aa-6470-4226-9c56-645eb380f592",
   "metadata": {
    "tags": []
   },
   "outputs": [],
   "source": [
    "#PROBLEM 28"
   ]
  },
  {
   "cell_type": "code",
   "execution_count": 29,
   "id": "9c76fd80-216c-4305-b5d4-05bed8835ee1",
   "metadata": {
    "tags": []
   },
   "outputs": [],
   "source": [
    "#CALCULATE THE FACTORIAL OF A GIVEN NUMBER."
   ]
  },
  {
   "cell_type": "code",
   "execution_count": 47,
   "id": "2521a8e2-571d-4971-8d45-262693dccbc9",
   "metadata": {
    "tags": []
   },
   "outputs": [
    {
     "name": "stdout",
     "output_type": "stream",
     "text": [
      "120\n"
     ]
    }
   ],
   "source": [
    "def factorial(n):\n",
    "    if n<0:\n",
    "        return None\n",
    "    elif n==0:\n",
    "        return 1\n",
    "    else:\n",
    "        result = 1\n",
    "        for i in range(1,n+1):\n",
    "            result *= i\n",
    "        return result\n",
    "number = 5\n",
    "factorial_result = factorial(number)\n",
    "print(factorial_result)"
   ]
  },
  {
   "cell_type": "code",
   "execution_count": null,
   "id": "b34e33ae-f241-46eb-af5d-bb6d193eceb7",
   "metadata": {},
   "outputs": [],
   "source": []
  },
  {
   "cell_type": "code",
   "execution_count": null,
   "id": "464b0c00-f9a1-40c6-ad03-6b85f7f0dd61",
   "metadata": {},
   "outputs": [],
   "source": []
  },
  {
   "cell_type": "code",
   "execution_count": 30,
   "id": "be52301e-ddad-45d2-ade6-ad72cfba89bd",
   "metadata": {
    "tags": []
   },
   "outputs": [],
   "source": [
    "#PROBLEM 29"
   ]
  },
  {
   "cell_type": "code",
   "execution_count": 31,
   "id": "a94fc4a9-0a15-4c55-b798-3a5e513d18be",
   "metadata": {
    "tags": []
   },
   "outputs": [],
   "source": [
    "#CHECK IF A GIVEN NUMBER IS A PRIME NUMBER."
   ]
  },
  {
   "cell_type": "code",
   "execution_count": 46,
   "id": "9b26f64e-56a1-4ca1-8e5e-b58daa66e540",
   "metadata": {
    "tags": []
   },
   "outputs": [
    {
     "name": "stdout",
     "output_type": "stream",
     "text": [
      "True\n"
     ]
    }
   ],
   "source": [
    "def is_prime(number):\n",
    "    if number <= 1:\n",
    "        return False\n",
    "    for i in range(2,int(number**0.5) + 1):\n",
    "        if number % i ==0:\n",
    "            return False \n",
    "        return True\n",
    "number = 7\n",
    "if is_prime(number):\n",
    "    print(True)\n",
    "else:\n",
    "    print(False)"
   ]
  },
  {
   "cell_type": "code",
   "execution_count": null,
   "id": "a1c3e103-0478-449f-addf-232a3d3bffca",
   "metadata": {},
   "outputs": [],
   "source": []
  },
  {
   "cell_type": "code",
   "execution_count": null,
   "id": "89bdd193-b1db-480d-950a-77cbc416b965",
   "metadata": {},
   "outputs": [],
   "source": []
  },
  {
   "cell_type": "code",
   "execution_count": 32,
   "id": "e6d0105f-d3f4-48f6-b23f-08fad48be34f",
   "metadata": {
    "tags": []
   },
   "outputs": [],
   "source": [
    "#PROBLEM 30"
   ]
  },
  {
   "cell_type": "code",
   "execution_count": 33,
   "id": "90b0949b-5f33-422e-a046-0dcb1a911b34",
   "metadata": {
    "tags": []
   },
   "outputs": [],
   "source": [
    "#GENERATE THE FIBONACCI SERIES UP TO A GIVEN NUMBER N."
   ]
  },
  {
   "cell_type": "code",
   "execution_count": 43,
   "id": "5028cb1d-5845-4706-9b02-10b7795f3d13",
   "metadata": {
    "tags": []
   },
   "outputs": [
    {
     "name": "stdout",
     "output_type": "stream",
     "text": [
      "[0, 1, 1, 2, 3, 5, 8, 13]\n"
     ]
    }
   ],
   "source": [
    "def fibonacci(n):\n",
    "    if n<=0:\n",
    "        return[]\n",
    "    elif n==1:\n",
    "        return [0]\n",
    "    elif n==2:\n",
    "        return [0,1]\n",
    "    else:\n",
    "        fib_series = [0,1]\n",
    "        while len(fib_series)<n:\n",
    "            next_num = fib_series[-1]+fib_series[-2]\n",
    "            fib_series.append(next_num)\n",
    "        return fib_series\n",
    "n=8\n",
    "fibonacci_series = fibonacci(n)\n",
    "print(fibonacci_series)"
   ]
  },
  {
   "cell_type": "code",
   "execution_count": null,
   "id": "9175fc08-9731-491f-b301-fbf8b8d9ad2c",
   "metadata": {},
   "outputs": [],
   "source": []
  },
  {
   "cell_type": "code",
   "execution_count": null,
   "id": "94b5043b-fd5c-4cb7-9b90-44e5e5e09b41",
   "metadata": {},
   "outputs": [],
   "source": []
  },
  {
   "cell_type": "code",
   "execution_count": 34,
   "id": "3d87d9ca-eb32-4ed0-b5b5-6b5be85993dd",
   "metadata": {
    "tags": []
   },
   "outputs": [],
   "source": [
    "#PROBLEM 31"
   ]
  },
  {
   "cell_type": "code",
   "execution_count": 35,
   "id": "341cc477-8d88-4427-af79-291d469fd9ce",
   "metadata": {
    "tags": []
   },
   "outputs": [],
   "source": [
    "#CALCULATE THE POWER OF A NUMBER USING RECURSION."
   ]
  },
  {
   "cell_type": "code",
   "execution_count": 40,
   "id": "fc5c1c43-2714-4638-938d-718e8b39f1c5",
   "metadata": {
    "tags": []
   },
   "outputs": [
    {
     "name": "stdout",
     "output_type": "stream",
     "text": [
      "81\n"
     ]
    }
   ],
   "source": [
    "def power(base,exponent):\n",
    "    if exponent == 0:\n",
    "        return 1\n",
    "    elif exponent % 2 == 0:\n",
    "        half = power(base,exponent//2)\n",
    "        return half *half\n",
    "    else:\n",
    "        half = power(base,(exponent -1)//2)\n",
    "        return base * half*half\n",
    "base = 3\n",
    "exponent = 4\n",
    "result = power(base,exponent)\n",
    "print(result)"
   ]
  },
  {
   "cell_type": "code",
   "execution_count": null,
   "id": "7b90da1c-c5ce-4027-a60e-a791a93039cb",
   "metadata": {},
   "outputs": [],
   "source": []
  },
  {
   "cell_type": "code",
   "execution_count": null,
   "id": "3283c1f3-c2a6-48f1-9b50-eeca3b1c6b5e",
   "metadata": {},
   "outputs": [],
   "source": []
  },
  {
   "cell_type": "code",
   "execution_count": 36,
   "id": "aa8b9e09-4f48-4988-8ebe-c399e37ca31c",
   "metadata": {
    "tags": []
   },
   "outputs": [],
   "source": [
    "#PROBLEM 32"
   ]
  },
  {
   "cell_type": "code",
   "execution_count": 37,
   "id": "8a892d60-8982-4a00-bd6d-69d62c2b815d",
   "metadata": {
    "tags": []
   },
   "outputs": [],
   "source": [
    "#REVERSE A GIVEN STRING."
   ]
  },
  {
   "cell_type": "code",
   "execution_count": 39,
   "id": "612dfb8c-037a-421b-813d-a6c5013a15f5",
   "metadata": {
    "tags": []
   },
   "outputs": [
    {
     "name": "stdout",
     "output_type": "stream",
     "text": [
      "\"olleH\"\n"
     ]
    }
   ],
   "source": [
    "def reverse_string(string):\n",
    "    char_list = list(string)\n",
    "    left = 0\n",
    "    right = len(char_list)-1\n",
    "    while left<right:\n",
    "        char_list[left],char_list[right]=char_list[right],char_list[left]\n",
    "        left +=1\n",
    "        right -= 1\n",
    "    reversed_string = ''.join(char_list)\n",
    "    return reversed_string\n",
    "my_string = '\"Hello\"'\n",
    "reversed_string = reverse_string(my_string)\n",
    "print(reversed_string)"
   ]
  },
  {
   "cell_type": "code",
   "execution_count": null,
   "id": "dacab2e9-c5c0-40b6-8805-611937969d69",
   "metadata": {},
   "outputs": [],
   "source": []
  },
  {
   "cell_type": "code",
   "execution_count": null,
   "id": "5de5a466-2026-47bb-8adb-7260d366792b",
   "metadata": {},
   "outputs": [],
   "source": []
  },
  {
   "cell_type": "code",
   "execution_count": null,
   "id": "b01e4485-6d02-41a1-a4af-94ec223ebdee",
   "metadata": {},
   "outputs": [],
   "source": []
  }
 ],
 "metadata": {
  "kernelspec": {
   "display_name": "Python 3 (ipykernel)",
   "language": "python",
   "name": "python3"
  },
  "language_info": {
   "codemirror_mode": {
    "name": "ipython",
    "version": 3
   },
   "file_extension": ".py",
   "mimetype": "text/x-python",
   "name": "python",
   "nbconvert_exporter": "python",
   "pygments_lexer": "ipython3",
   "version": "3.11.4"
  }
 },
 "nbformat": 4,
 "nbformat_minor": 5
}
